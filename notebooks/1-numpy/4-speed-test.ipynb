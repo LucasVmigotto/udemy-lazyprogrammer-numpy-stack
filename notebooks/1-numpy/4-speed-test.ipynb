{
 "cells": [
  {
   "cell_type": "markdown",
   "metadata": {},
   "source": [
    "# Speed Test"
   ]
  },
  {
   "cell_type": "code",
   "execution_count": 23,
   "metadata": {},
   "outputs": [],
   "source": [
    "import numpy as np"
   ]
  },
  {
   "cell_type": "markdown",
   "metadata": {},
   "source": [
    "## Vectors"
   ]
  },
  {
   "cell_type": "code",
   "execution_count": 24,
   "metadata": {},
   "outputs": [],
   "source": [
    "from datetime import datetime\n",
    "\n",
    "a = np.random.randn(100)\n",
    "b = np.random.randn(100)\n",
    "T = int(10e4)"
   ]
  },
  {
   "cell_type": "code",
   "execution_count": 25,
   "metadata": {},
   "outputs": [],
   "source": [
    "def slow_dot_product(a, b):\n",
    "    result = 0\n",
    "    \n",
    "    for i, j in zip(a, b):\n",
    "        result += i * j\n",
    "        \n",
    "    return result"
   ]
  },
  {
   "cell_type": "code",
   "execution_count": 26,
   "metadata": {},
   "outputs": [
    {
     "name": "stdout",
     "output_type": "stream",
     "text": [
      "dt_1 0.921684\n"
     ]
    }
   ],
   "source": [
    "t_0 = datetime.now()\n",
    "\n",
    "for t in range(T):\n",
    "    slow_dot_product(a, b)\n",
    "\n",
    "dt_1 = datetime.now() - t_0\n",
    "\n",
    "print('dt_1', dt_1.total_seconds())"
   ]
  },
  {
   "cell_type": "code",
   "execution_count": 27,
   "metadata": {},
   "outputs": [
    {
     "name": "stdout",
     "output_type": "stream",
     "text": [
      "dt_2 0.024681\n"
     ]
    }
   ],
   "source": [
    "t_0 = datetime.now()\n",
    "\n",
    "for t in range(T):\n",
    "    a.dot(b)\n",
    "\n",
    "dt_2 = datetime.now() - t_0\n",
    "\n",
    "print('dt_2', dt_2.total_seconds())"
   ]
  },
  {
   "cell_type": "code",
   "execution_count": 28,
   "metadata": {},
   "outputs": [
    {
     "name": "stdout",
     "output_type": "stream",
     "text": [
      "dt_1 / dt_2 37.34386775252218\n"
     ]
    }
   ],
   "source": [
    "print('dt_1 / dt_2', dt_1.total_seconds() / dt_2.total_seconds())"
   ]
  }
 ],
 "metadata": {
  "kernelspec": {
   "display_name": "Python 3 (ipykernel)",
   "language": "python",
   "name": "python3"
  },
  "language_info": {
   "codemirror_mode": {
    "name": "ipython",
    "version": 3
   },
   "file_extension": ".py",
   "mimetype": "text/x-python",
   "name": "python",
   "nbconvert_exporter": "python",
   "pygments_lexer": "ipython3",
   "version": "3.11.8"
  }
 },
 "nbformat": 4,
 "nbformat_minor": 2
}
