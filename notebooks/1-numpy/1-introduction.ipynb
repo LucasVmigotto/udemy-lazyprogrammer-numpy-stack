{
 "cells": [
  {
   "cell_type": "markdown",
   "metadata": {},
   "source": [
    "# Introduction"
   ]
  },
  {
   "cell_type": "code",
   "execution_count": 1,
   "metadata": {},
   "outputs": [],
   "source": [
    "import numpy as np"
   ]
  },
  {
   "cell_type": "markdown",
   "metadata": {},
   "source": [
    "## Quick\n",
    "\n",
    "* Central object: Numpy arrays\n",
    "* Handle efficiently:\n",
    "  * Vector and Matrices\n",
    "  * Dot Product / Inner Product\n",
    "  * Matrix Multiplication\n",
    "  * Element Wise Product\n",
    "* Can do:\n",
    "  * Linear Systems\n",
    "  * Inverse $A^{-1}$\n",
    "  * Determinant $|A|$\n",
    "  * Random numbers (Uniform, Guassian)"
   ]
  },
  {
   "cell_type": "markdown",
   "metadata": {},
   "source": [
    "## Applciations\n",
    "\n",
    "1. Linear Regression\n",
    "2. Logistic Regression\n",
    "3. Deep Neural Networks\n",
    "4. K-Means Clustering\n",
    "5. Density Estimation\n",
    "6. Principal Component Analysis\n",
    "7. Matrix Factorization (Recomendation Systems)\n",
    "8. Support Vector Machines\n",
    "9. Markov Models, HMM \n",
    "10. Controls Systems\n",
    "11. Game theory\n",
    "12. Operation Research\n",
    "13. Portifolio Optmization"
   ]
  }
 ],
 "metadata": {
  "kernelspec": {
   "display_name": "Python 3 (ipykernel)",
   "language": "python",
   "name": "python3"
  },
  "language_info": {
   "codemirror_mode": {
    "name": "ipython",
    "version": 3
   },
   "file_extension": ".py",
   "mimetype": "text/x-python",
   "name": "python",
   "nbconvert_exporter": "python",
   "pygments_lexer": "ipython3",
   "version": "3.11.8"
  }
 },
 "nbformat": 4,
 "nbformat_minor": 2
}
