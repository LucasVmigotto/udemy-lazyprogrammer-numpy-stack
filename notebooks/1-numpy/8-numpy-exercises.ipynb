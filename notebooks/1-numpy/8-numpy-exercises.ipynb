{
 "cells": [
  {
   "cell_type": "markdown",
   "metadata": {},
   "source": [
    "# Numpy Exercises"
   ]
  },
  {
   "cell_type": "code",
   "execution_count": 55,
   "metadata": {},
   "outputs": [],
   "source": [
    "import numpy as np"
   ]
  },
  {
   "cell_type": "markdown",
   "metadata": {},
   "source": [
    "Create a speed test to compare matrices multiplication with Python lists vs. Numpy arrays"
   ]
  },
  {
   "cell_type": "code",
   "execution_count": 56,
   "metadata": {},
   "outputs": [],
   "source": [
    "SEED = 42\n",
    "\n",
    "np.random.seed(SEED)"
   ]
  },
  {
   "cell_type": "code",
   "execution_count": 57,
   "metadata": {},
   "outputs": [
    {
     "data": {
      "text/plain": [
       "array([[6, 3, 7],\n",
       "       [4, 6, 9]])"
      ]
     },
     "execution_count": 57,
     "metadata": {},
     "output_type": "execute_result"
    }
   ],
   "source": [
    "A = np.random.randint(0, 10, size=(2, 3))\n",
    "\n",
    "A"
   ]
  },
  {
   "cell_type": "code",
   "execution_count": 58,
   "metadata": {},
   "outputs": [
    {
     "data": {
      "text/plain": [
       "array([[2, 6],\n",
       "       [7, 4],\n",
       "       [3, 7]])"
      ]
     },
     "execution_count": 58,
     "metadata": {},
     "output_type": "execute_result"
    }
   ],
   "source": [
    "B = np.random.randint(0, 10, size=(3, 2))\n",
    "\n",
    "B"
   ]
  },
  {
   "cell_type": "code",
   "execution_count": 59,
   "metadata": {},
   "outputs": [],
   "source": [
    "from datetime import datetime\n",
    "\n",
    "T = 10_0000"
   ]
  },
  {
   "cell_type": "code",
   "execution_count": 60,
   "metadata": {},
   "outputs": [],
   "source": [
    "def matrix_multiplication(A, B):\n",
    "    if A.shape[1] != B.shape[0]:\n",
    "        raise Exception('The value of A\\'s columns have to be equal to B\\'s rows')\n",
    "    \n",
    "    C = []\n",
    "    \n",
    "    for i in range(A.shape[0]):\n",
    "        \n",
    "        C.append([])\n",
    "        \n",
    "        for j in range(B.shape[1]):\n",
    "            \n",
    "            C[i].append(A[i,:] * B[:, j])\n",
    "            \n",
    "            C[i][j] = sum(C[i][j])\n",
    "\n",
    "    return C"
   ]
  },
  {
   "cell_type": "code",
   "execution_count": 61,
   "metadata": {},
   "outputs": [
    {
     "name": "stdout",
     "output_type": "stream",
     "text": [
      "dt_1 0.605233\n"
     ]
    }
   ],
   "source": [
    "t_0 = datetime.now()\n",
    "\n",
    "for _t in range(T):\n",
    "    matrix_multiplication(A, B)\n",
    "\n",
    "dt_1 = datetime.now() - t_0\n",
    "\n",
    "print('dt_1', dt_1.total_seconds())"
   ]
  },
  {
   "cell_type": "code",
   "execution_count": 62,
   "metadata": {},
   "outputs": [
    {
     "name": "stdout",
     "output_type": "stream",
     "text": [
      "dt_2 0.042612\n"
     ]
    }
   ],
   "source": [
    "t_0 = datetime.now()\n",
    "\n",
    "for _t in range(T):\n",
    "    A.dot(B)\n",
    "\n",
    "dt_2 = datetime.now() - t_0\n",
    "\n",
    "print('dt_2', dt_2.total_seconds())"
   ]
  },
  {
   "cell_type": "code",
   "execution_count": 63,
   "metadata": {},
   "outputs": [
    {
     "name": "stdout",
     "output_type": "stream",
     "text": [
      "dt_1 / dt_2 14.203346475171315\n"
     ]
    }
   ],
   "source": [
    "print('dt_1 / dt_2', dt_1.total_seconds() / dt_2.total_seconds())"
   ]
  }
 ],
 "metadata": {
  "kernelspec": {
   "display_name": "Python 3 (ipykernel)",
   "language": "python",
   "name": "python3"
  },
  "language_info": {
   "codemirror_mode": {
    "name": "ipython",
    "version": 3
   },
   "file_extension": ".py",
   "mimetype": "text/x-python",
   "name": "python",
   "nbconvert_exporter": "python",
   "pygments_lexer": "ipython3",
   "version": "3.11.8"
  }
 },
 "nbformat": 4,
 "nbformat_minor": 2
}
